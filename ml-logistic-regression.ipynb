{
 "cells": [
  {
   "cell_type": "markdown",
   "metadata": {},
   "source": [
    "\n",
    "[Logistic regression](https://en.wikipedia.org/wiki/Logistic_regression) is similar to [linear regression](/blog/ml-linear-regression/), but instead of predicting a continuous output, classifies training examples by a set of categories or labels.  For example, linear regression on a set of social and economic data might be used to predict a person's income, but logistic regression could be used to predict whether that person was married, had children, or had ever been arrested.  In a basic sense, logistic regression only answers questions that have yes / no answers, or questions that can be answered with a 1 or 0.  However, it can easily be [extended](https://en.wikipedia.org/wiki/Multinomial_logistic_regression) to problems where there are a larger set of categories.\n",
    "\n",
    "\n",
    "# Loading and Plotting Data\n",
    " \n",
    "Initially, I'm only using two features from the data set: alcohol and ash.  The labels are supplied as an array of data with values from `1` to `3`, but at first, I only want a simple regression problem with a yes or no answer.  \n",
    "\n",
    "To do this, I first filter the data set, reducing it to only include wines with labels `1` or `2`.  Then, I use the scikit-learn `label_binarize` function, which takes an $m$-length list with $n$ possible values (two, in this case), and converts it to an $m \\times n$ matrix, where each column represents one label with a value of `1`, and all others with a value of `0`.  I choose the first column, though the second would be equally valid here, just with the labels reversed.\n",
    "\n",
    "I've provided a small example of `label_binarize` below, shuffling the whole input data set first (the examples are sorted by winery), and then selecting the first ten."
   ]
  },
  {
   "cell_type": "code",
   "execution_count": 16,
   "metadata": {},
   "outputs": [
    {
     "name": "stdout",
     "output_type": "stream",
     "text": [
      "original: [3 2 3 2 1 1 2 2 1 3]\n",
      "binarized: [[0 0 1]\n",
      " [0 1 0]\n",
      " [0 0 1]\n",
      " [0 1 0]\n",
      " [1 0 0]\n",
      " [1 0 0]\n",
      " [0 1 0]\n",
      " [0 1 0]\n",
      " [1 0 0]\n",
      " [0 0 1]]\n"
     ]
    }
   ],
   "source": [
    "import pandas as pd\n",
    "import numpy as np\n",
    "from sklearn.preprocessing import label_binarize\n",
    "\n",
    "data = pd.read_csv('data.txt')\n",
    "\n",
    "reduced = data[data['class'] <= 2]\n",
    "X = reduced.as_matrix(columns=['alcohol', 'ash'])\n",
    "y = label_binarize(reduced['class'].values, [1, 2])[:,0]\n",
    "\n",
    "example = np.copy(data['class'].values)\n",
    "np.random.shuffle(example)\n",
    "example = example[0:10]\n",
    "print('original:', example)\n",
    "example = label_binarize(example, list(set(example)))\n",
    "print('binarized:', example)\n",
    "#print('1s vs all:', example[:,0])"
   ]
  },
  {
   "cell_type": "markdown",
   "metadata": {},
   "source": [
    "I also split the data into training and testing sets before going further.  A simple way to do this is with the `train_test_split` function from scikit-learn, which allows me to specify a percentage (here 25%) to sample randomly from the data set and partition away for testing."
   ]
  },
  {
   "cell_type": "code",
   "execution_count": 17,
   "metadata": {},
   "outputs": [
    {
     "name": "stdout",
     "output_type": "stream",
     "text": [
      "train: 97 test: 33\n"
     ]
    }
   ],
   "source": [
    "from sklearn.model_selection import train_test_split\n",
    "\n",
    "X_train, X_test, y_train, y_test = train_test_split(X, y, test_size=0.25)\n",
    "print('train:', len(X_train), 'test:', len(X_test))"
   ]
  },
  {
   "cell_type": "markdown",
   "metadata": {},
   "source": [
    "Because I'm going to be drawing a lot of data plots, I define a function that takes an $n \\times 2$ array of data points `xy`, and an $n \\times 1$ array `labels` to vary the symbol and color for each point.  This function supports three distinct labels, sufficient for this data set."
   ]
  },
  {
   "cell_type": "code",
   "execution_count": 18,
   "metadata": {},
   "outputs": [
    {
     "data": {
      "image/png": "[encoded data removed]",
      "text/plain": [
       "<Figure size 432x288 with 1 Axes>"
      ]
     },
     "metadata": {},
     "output_type": "display_data"
    }
   ],
   "source": [
    "import matplotlib.pyplot as plt\n",
    "%matplotlib inline\n",
    "\n",
    "MARKERS = ['+', 'x', '.']\n",
    "COLORS = ['red', 'green', 'blue']\n",
    "\n",
    "def plot_points(xy, labels):\n",
    "    \n",
    "    for i, label in enumerate(set(labels)):\n",
    "        points = np.array([xy[j,:] for j in range(len(xy)) if labels[j] == label])\n",
    "        marker = MARKERS[i % len(MARKERS)]\n",
    "        color = COLORS[i % len(COLORS)]\n",
    "        plt.scatter(points[:,0], points[:,1], marker=marker, color=color)\n",
    "\n",
    "plot_points(X_train, y_train)"
   ]
  },
  {
   "cell_type": "markdown",
   "metadata": {},
   "source": [
    "There's a fairly obvious area near the center of the plot where a line could divide the two colors of points with a small amount of error.\n",
    "\n",
    "# Simple Logistic Regression\n",
    "\n",
    "To implement logistic regression, I need a hypothesis function $h_\\theta(x)$, a cost function $J(\\theta)$, and a gradient function that computes the partial derivatives of $J(\\theta)$.\n",
    "\n",
    "In logistic regression, $h_\\theta$ is the [sigmoid](https://www.quora.com/Logistic-Regression-Why-sigmoid-function) function.  The sigmoid function is bounded between 0 and 1, and produces a value that can be interpreted as a probability.  This value can also be a yes / no answer with a cross-over, or decision boundary, at 0.5:\n",
    "\n",
    "$$\n",
    "h_\\theta(x) = \\frac{1}{1 + e^{ \\theta^Tx}}\n",
    "$$\n",
    "\n",
    "Using [mean squared error](https://en.wikipedia.org/wiki/Mean_squared_error) from linear regression isn't a good idea here, as the resulting cost function [isn't convex](http://mathworld.wolfram.com/SigmoidFunction.html) and so is not well-suited for gradient descent.  Instead, the difference of $h_\\theta(x^i) - y^i$ is calculated differently for $y=0$ and $y=1$, and the result is [transformed](https://stackoverflow.com/questions/32986123/why-the-cost-function-of-logistic-regression-has-a-logarithmic-expression) [logarithmically](https://math.stackexchange.com/questions/886555/deriving-cost-function-using-mle-why-use-log-function) into a convex function: \n",
    "\n",
    "$$\n",
    "J(\\theta) =-\\frac{1}{m}\\sum_{i=1}^{m}y^{i}\\log(h_\\theta(x^{i}))+(1-y^{i})\\log(1-h_\\theta(x^{i}))\n",
    "$$\n",
    "\n",
    "Fortunately, the [derivative](https://math.stackexchange.com/questions/477207/derivative-of-cost-function-for-logistic-regression) of this function is exactly the same as that of linear regression, just with a different $h_\\theta(x)$:\n",
    "\n",
    "$$\n",
    "\\frac{\\partial}{\\partial\\theta_{j}}J(\\theta) =\\sum_{i=1}^{m}(h_\\theta(x^{i})-y^i)x_j^i\n",
    "$$"
   ]
  },
  {
   "cell_type": "code",
   "execution_count": 19,
   "metadata": {},
   "outputs": [],
   "source": [
    "import numpy as np\n",
    "\n",
    "def sigmoid(X):\n",
    "    return 1 / (1 + np.exp(-X))\n",
    "\n",
    "def cost(theta, X, y):\n",
    "    \n",
    "    theta = theta[:,None]\n",
    "    y = y[:,None]\n",
    "    \n",
    "    hyp = sigmoid(X.dot(theta))\n",
    "    pos = np.multiply(-y, np.log(hyp))\n",
    "    neg = np.multiply((1 - y), np.log(1 - hyp))\n",
    "    \n",
    "    return np.sum(pos - neg) / (len(X))\n",
    "\n",
    "def gradient(theta, X, y):\n",
    "    theta = theta[:,None]\n",
    "    y = y[:,None]\n",
    "    \n",
    "    error = sigmoid(X.dot(theta)) - y\n",
    "    return X.T.dot(error) / len(X)"
   ]
  },
  {
   "cell_type": "markdown",
   "metadata": {},
   "source": [
    "It's worth noting the treatment of `y` and `theta` above.  In each function, I explicitly convert each to an $n$ or $m \\times 1$ `ndarray`, so the matrix operations work correctly.  An alternative is to use a numpy `matrix`, which has stricter linear algebra semantics and treats 1-dimensional matrices more like column vectors.  However, I found that it was awkward to get the matrix interface to work correctly with both the optimization function used below, and with TensorFlow.  The indexing syntax can be thought of as explicitly columnizing the array of parameters or labels.\n",
    "\n",
    "Instead of manually writing a gradient descent, I use an optimization algorithm from Scipy called [`fmin_tnc`](https://docs.scipy.org/doc/scipy-0.14.0/reference/generated/scipy.optimize.fmin_tnc.html) to perform it.  This function takes as parameters the cost function, an initial set of parameters for $\\theta$, the gradient function, and a tuple of args to pass to each.  I define a `train` function that prepends a columns of 1s to the training data (allowing for a bias parameter $\\theta_0$), run the minimization function and return the first of its return values, final parameters for $\\theta$."
   ]
  },
  {
   "cell_type": "code",
   "execution_count": 20,
   "metadata": {},
   "outputs": [
    {
     "name": "stdout",
     "output_type": "stream",
     "text": [
      "theta:  [70.65374179 -4.81906364 -2.96753195]\n"
     ]
    }
   ],
   "source": [
    "from scipy.optimize import fmin_tnc  \n",
    "\n",
    "def train(X, y):\n",
    "    X = np.insert(X, 0, np.ones(len(X)), axis=1)\n",
    "    theta = np.zeros(X.shape[1])\n",
    "    result = fmin_tnc(func=cost, x0=theta, fprime=gradient, args=(X, y))\n",
    "    \n",
    "    return result[0]\n",
    "\n",
    "theta = train(X_train, y_train)\n",
    "print('theta: ', theta)\n"
   ]
  },
  {
   "cell_type": "markdown",
   "metadata": {},
   "source": [
    "# Decision Boundaries and Evaluation\n",
    "\n",
    "\n",
    "I can evaluate the results of the optimization visually and statistically, but I also need one more function: `predict`, which takes an array of examples `X` and learned parameter values `theta` as inputs and returns the predicted label for each.  Here too, 1s must be prepended to the inputs, and I return an integer value representing whether the result of the `sigmoid` hypothesis function is equal to or greater than 0.5.\n",
    "\n",
    "To test the results of those predictions, Scikit-learn provides three functions to calculate [accuracy, precision and recall](https://en.wikipedia.org/wiki/Precision_and_recall).  The test data from earlier is used here, so the results represent the performance of the classifier on unseen data."
   ]
  },
  {
   "cell_type": "code",
   "execution_count": 21,
   "metadata": {},
   "outputs": [
    {
     "name": "stdout",
     "output_type": "stream",
     "text": [
      "accuracy: 0.8181818181818182\n",
      "precision: 0.85\n",
      "recall: 0.8421052631578947\n"
     ]
    }
   ],
   "source": [
    "from sklearn.metrics import accuracy_score, precision_score, recall_score\n",
    "\n",
    "def predict(X, theta):\n",
    "    X = np.insert(X, 0, np.ones(len(X)), axis=1)\n",
    "    return (sigmoid(X * np.matrix(theta).T) >= 0.5).astype(int)\n",
    "\n",
    "\n",
    "predictions = predict(X_test, theta)\n",
    "\n",
    "print('accuracy:', accuracy_score(y_test, predictions))\n",
    "print('precision:', precision_score(y_test, predictions, average='macro'))\n",
    "print('recall:', recall_score(y_test, predictions, average='macro'))"
   ]
  },
  {
   "cell_type": "markdown",
   "metadata": {},
   "source": [
    "It's much more interesting to review the results visually, at least while the number of features is limited to two.  To do this, I need to plot the input points again, then overlay the decision boundary on top.  I tried several approaches for this in Matplotlib, and found that an unfilled countour plot gave me the best results.  This can also be done by manually calculating the function to plot, or using a filled contour plot that shades over the actual areas, but doing the math by hand is tedious, and the colormaps for filled contour plots leave a lot to be desired visually.\n",
    "\n",
    "Below, I define a function `plot_boundary` that takes $n \\times 2$ matrix of feature values $(x_0, x_1)$ and a prediction function, then builds a mesh grid of $(x, y)$ points corresponding to possible $(x_0, x_1)$ values within the input range.  After running the prediction function on all of them, the result is an $(x, y, z)$ point in space.  Because the result isn't continuous and flips directly from 0 to 1, there's only one contour that can be drawn on the plot: the decision boundary."
   ]
  },
  {
   "cell_type": "code",
   "execution_count": 22,
   "metadata": {},
   "outputs": [
    {
     "name": "stdout",
     "output_type": "stream",
     "text": [
      "[[1]\n",
      " [1]\n",
      " [1]\n",
      " ...\n",
      " [0]\n",
      " [0]\n",
      " [0]]\n",
      "(200, 200)\n",
      "(200, 200)\n"
     ]
    },
    {
     "data": {
      "image/png": "[encoded data removed]",
      "text/plain": [
       "<Figure size 432x288 with 1 Axes>"
      ]
     },
     "metadata": {},
     "output_type": "display_data"
    }
   ],
   "source": [
    "from matplotlib import cm\n",
    "\n",
    "def plot_boundary(X, pred):\n",
    "    \n",
    "    x_min, x_max = X[:,0].min() - .1, X[:,0].max() + .1\n",
    "    y_min, y_max = X[:,1].min() - .1, X[:,1].max() + .1\n",
    "    \n",
    "    xs, ys = np.meshgrid(\n",
    "        np.linspace(x_min, x_max, 200),\n",
    "        np.linspace(y_min, y_max, 200)\n",
    "    )\n",
    "\n",
    "    xys = np.column_stack([xs.ravel(), ys.ravel()])\n",
    "    print(pred(xys))\n",
    "    zs = pred(xys).reshape(xs.shape)\n",
    "    print(xs.shape)\n",
    "    print(zs.shape)\n",
    "    plt.contour(xs, ys, zs, colors='black')\n",
    "        \n",
    "plot_points(X_train, y_train)\n",
    "plot_boundary(X_train, lambda x: predict(x, theta))"
   ]
  },
  {
   "cell_type": "markdown",
   "metadata": {},
   "source": [
    "# Multinomial Logistic Regression\n",
    "\n",
    "With the basics working, the next step is something more interesting: a similar set of two features from the data set (this time alcohol and flavanoids), but with all three labels instead of two.  The only differences below in loading the data are that I no longer filter out rows with the third label, that I use the full output from `label_binarize`, resulting in an $m \\times 3$ array for `y`."
   ]
  },
  {
   "cell_type": "code",
   "execution_count": 23,
   "metadata": {},
   "outputs": [
    {
     "data": {
      "image/png": "[encoded data removed]",
      "text/plain": [
       "<Figure size 432x288 with 1 Axes>"
      ]
     },
     "metadata": {},
     "output_type": "display_data"
    }
   ],
   "source": [
    "X = data.as_matrix(columns=['alcohol', 'flavanoids'])\n",
    "y = data.as_matrix(columns=['class'])\n",
    "X_train, X_test, y_train, y_test = train_test_split(X, y, test_size=0.25)\n",
    "y_train = label_binarize(y_train, [1, 2, 3])\n",
    "\n",
    "plot_points(X_train, y_train.argmax(axis=1))"
   ]
  },
  {
   "cell_type": "markdown",
   "metadata": {},
   "source": [
    "The plotted data points again suggest some obvious linear boundaries between the wines.\n",
    "\n",
    "It turns out that solving this as three one-vs-all problems is trivial, and re-uses all the code I just wrote.  Instead of one array of `theta` values I train three, one per problem, and then define a new `predict_multi` function that computes the three sigmoids for each example using each array of `theta` parameters.  This time, rather than return `1` or `0` based on whether the value is above or below 0.5, I return the `argmax` of each resulting row, the index of the largest value."
   ]
  },
  {
   "cell_type": "code",
   "execution_count": 24,
   "metadata": {},
   "outputs": [
    {
     "name": "stdout",
     "output_type": "stream",
     "text": [
      "[array([-65.6407211 ,   4.40530515,   2.99107851]), array([58.79446479, -4.81510569,  1.34404031]), array([-43.2257202 ,   4.08105008,  -7.14071069])]\n",
      "accuracy: 0.8888888888888888\n",
      "precision: 0.8958333333333334\n",
      "recall: 0.9041835357624831\n",
      "[[1]\n",
      " [1]\n",
      " [1]\n",
      " ...\n",
      " [0]\n",
      " [0]\n",
      " [0]]\n",
      "(200, 200)\n",
      "(200, 200)\n"
     ]
    },
    {
     "data": {
      "image/png": "[encoded data removed]",
      "text/plain": [
       "<Figure size 432x288 with 1 Axes>"
      ]
     },
     "metadata": {},
     "output_type": "display_data"
    }
   ],
   "source": [
    "def predict_multi(X, thetas):\n",
    "    X = np.insert(X, 0, np.ones(len(X)), axis=1)\n",
    "    preds = [sigmoid(X * np.asmatrix(t).T) for t in thetas]\n",
    "    return np.column_stack(preds).argmax(axis=1)\n",
    "\n",
    "thetas = [train(X_train, y_train[:,i]) for i in range(0,3)]\n",
    "print(thetas)\n",
    "predictions = predict_multi(X_test, thetas) + 1\n",
    "#print(predictions)\n",
    "print('accuracy:', accuracy_score(y_test, predictions))\n",
    "print('precision:', precision_score(y_test, predictions, average='macro'))\n",
    "print('recall:', recall_score(y_test, predictions, average='macro'))\n",
    "\n",
    "plot_points(X_train, y_train.argmax(axis=1))\n",
    "plot_boundary(X_train, lambda x: predict_multi(x, thetas))"
   ]
  },
  {
   "cell_type": "markdown",
   "metadata": {},
   "source": [
    "Looking at the plot above, it seems like the boundaries could be much more accurate if they didn't have to be straight lines.  To allow for this, I define a function `transform` to add some polynomial features, converting each input example of $(x_0, x_1)$ to $(x_0, x_1, x_2, x_3, x_4)$, where $x_2 = x_0^2$, $x_3 = x_1^2$ and $x_4 = x_0x_1$."
   ]
  },
  {
   "cell_type": "code",
   "execution_count": 25,
   "metadata": {},
   "outputs": [
    {
     "name": "stderr",
     "output_type": "stream",
     "text": [
      "/Library/Frameworks/Python.framework/Versions/3.6/lib/python3.6/site-packages/ipykernel_launcher.py:13: RuntimeWarning: divide by zero encountered in log\n",
      "  del sys.path[0]\n",
      "/Library/Frameworks/Python.framework/Versions/3.6/lib/python3.6/site-packages/ipykernel_launcher.py:13: RuntimeWarning: invalid value encountered in multiply\n",
      "  del sys.path[0]\n"
     ]
    },
    {
     "name": "stdout",
     "output_type": "stream",
     "text": [
      "accuracy: 0.8888888888888888\n",
      "precision: 0.8958333333333334\n",
      "recall: 0.9041835357624831\n",
      "[[1]\n",
      " [1]\n",
      " [1]\n",
      " ...\n",
      " [0]\n",
      " [0]\n",
      " [0]]\n",
      "(200, 200)\n",
      "(200, 200)\n"
     ]
    },
    {
     "data": {
      "image/png": "[encoded data removed]",
      "text/plain": [
       "<Figure size 432x288 with 1 Axes>"
      ]
     },
     "metadata": {},
     "output_type": "display_data"
    }
   ],
   "source": [
    "def transform_x(x):\n",
    "    return [x[0], x[1], x[0] ** 2, x[1] ** 2, x[0] * x[1]]\n",
    "\n",
    "def transform(X):\n",
    "    return np.apply_along_axis(transform_x, 1, X)\n",
    "\n",
    "X_train = transform(X_train)\n",
    "X_test = transform(X_test)\n",
    "\n",
    "thetas = [train(X_train, y_train[:,i]) for i in range(0,3)]\n",
    "predictions = predict_multi(X_test, thetas) + 1\n",
    "\n",
    "print('accuracy:', accuracy_score(y_test, predictions))\n",
    "print('precision:', precision_score(y_test, predictions, average='macro'))\n",
    "print('recall:', recall_score(y_test, predictions, average='macro'))\n",
    "\n",
    "plot_points(X_train, y_train.argmax(axis=1))\n",
    "plot_boundary(X_train, lambda x: predict_multi(transform(x), thetas))"
   ]
  },
  {
   "cell_type": "markdown",
   "metadata": {},
   "source": [
    "# Regularization\n",
    "\n",
    "Next, I want to include all the features from the data set.  To do this, instead of specifying what columns I want to include, I use `drop` to include everything except the `class` column.\n",
    "\n",
    "Because I'm now significantly increasing the number of features, I apply [regularization](https://www.quora.com/What-is-regularization-in-machine-learning) as part of new cost and gradient functions.  Regularization prevents overfitting, a situation where a large number of features allows the classifier to fit the training set *too* exactly, meaning that it fails to generalize well and perform accurately on data it hasn't yet seen.\n",
    "\n",
    "To avoid this problem, I add an additional term to the cost function and its gradient, representing the aggregated weights of each $\\theta$ parameter.  Adding this term effectively increases the cost, meaning that the overall impact of feature weights is muted, and the fit to the training set is softened.  Note that for each of the new cost and gradient functions, the summation for regularization starts at $j = 1$, since the constant bia parameter $\\theta_0$ is typically not regularized:\n",
    "\n",
    "$$\n",
    "J(\\theta) =-\\frac{1}{m}\\sum_{i=1}^{m}[y^{i}\\log(h_\\theta(x^{i}))+(1-y^{i})\\log(1-h_\\theta(x^{i}))] + \\frac{\\lambda}{2m}\\sum_{j=1}^{n}\\theta_j^2 \\\\\n",
    "\\frac{\\partial}{\\partial\\theta_{j}}J(\\theta) =\\sum_{i=1}^{m}(h_\\theta(x^{i})-y^i)x_j^i + \\frac{\\lambda}{m}\\theta_j\n",
    "$$\n",
    "\n",
    "Below, I define the new cost and gradient functions, as well as a new function to train the classifier, given the addition of a new parameter `l`, for $\\lambda$.  This parameter can be adjusted to change the effect of regularization; here I'm just using `1.0`.  In each case, I ensure that $\\theta_0$ isn't regularized by creating a temporary `theta_reg`, starting with a zero followed by elements one and onward from `theta`."
   ]
  },
  {
   "cell_type": "code",
   "execution_count": 26,
   "metadata": {},
   "outputs": [
    {
     "name": "stdout",
     "output_type": "stream",
     "text": [
      "accuracy: 0.9555555555555556\n",
      "precision: 0.9606481481481483\n",
      "recall: 0.9537037037037037\n"
     ]
    }
   ],
   "source": [
    "X = data.drop('class', 1).as_matrix()\n",
    "y = data.as_matrix(columns=['class'])\n",
    "X_train, X_test, y_train, y_test = train_test_split(X, y, test_size=0.25)\n",
    "y_train = label_binarize(y_train, [1, 2, 3])\n",
    "\n",
    "def cost_reg(theta, X, y, lambda_):\n",
    "    theta_reg = np.array((0, *theta[1:]))[:,None]\n",
    "    reg = lambda_ * np.square(theta_reg).sum() / (2 * len(X))\n",
    "    \n",
    "    return cost(theta, X, y) + reg\n",
    "\n",
    "def gradient_reg(theta, X, y, lambda_):\n",
    "    theta_reg = np.array((0, *theta[1:]))[:,None]\n",
    "    reg = lambda_ * theta_reg / len(X)\n",
    "    \n",
    "    return gradient(theta, X, y) + reg\n",
    "\n",
    "def train_reg(X, y, lambda_):\n",
    "    X = np.insert(X, 0, np.ones(len(X)), axis=1)\n",
    "    theta = np.zeros(X.shape[1])\n",
    "    result = fmin_tnc(func=cost_reg, x0=theta, fprime=gradient_reg, args=(X, y, lambda_))\n",
    "    \n",
    "    return result[0]\n",
    "\n",
    "thetas = [train_reg(X_train, y_train[:,i], 1.0) for i in range(0,3)]\n",
    "predictions = predict_multi(X_test, thetas) + 1\n",
    "\n",
    "print('accuracy:', accuracy_score(y_test, predictions))\n",
    "print('precision:', precision_score(y_test, predictions, average='macro'))\n",
    "print('recall:', recall_score(y_test, predictions, average='macro'))"
   ]
  },
  {
   "cell_type": "markdown",
   "metadata": {},
   "source": [
    "# Logistic Regression with TensorFlow\n",
    "\n",
    "In this last section, I implement logistic regression using TensorFlow and test the model using the same data set.  TensorFlow allows for a significantly more compact and higher-level representation of the problem as a computational graph, resulting in less code and faster development of models.\n",
    "\n",
    "One item definitely worth calling out is the use of the [`AdamOptimizer`](https://www.tensorflow.org/api_docs/python/tf/train/AdamOptimizer) instead of the [`GradientDescentOptimizer`](https://www.tensorflow.org/api_docs/python/tf/train/GradientDescentOptimizer) from the previous post.  Although the latter can still be used here, I found it a poor fit for two reasons:  it is *very* sensitive to learning rate and lambda parameters, and it converges extremely slowly.  Correct convergence required a very low learning rate (around 0.001 at most), and could still be seen decreasing at over 300,000 iterations, with a curve that appeared linear after the first thousand.  Poor tuning resulted in the optimizer spinning out of control and emitting `nan` values for all the parameters.\n",
    "\n",
    "Using a different optimizer helped tremendously, especially one that is [adaptive](https://stackoverflow.com/questions/33919948/how-to-set-adaptive-learning-rate-for-gradientdescentoptimizer).  It converges significantly faster and requires much less hand-holding to do so.  Even then, these graphs take typically 25x the time to converge properly compared to the manual implementation above, and I'm not sure why this is the case.  Since Tensorflow does the calculus itself to find the gradient, it could be that this is the result of some issue or lack of optimization.  On the other hand, given that the platform is designed to distribute computations and scale to significantly larger data sets, this could be some overhead that is quite reasonable in those scenarios but is felt heavily in a small demonstration with a tiny number of examples.\n",
    "\n",
    "I also adjusted all placeholders and variables to `tf.float64`, to avoid any issues with numerical precision.  After this and the adaptive optimizer, the results improved dramatically.\n",
    "\n",
    "Because I want to build a few different graphs, I define a function that builds one given a few parameters: the number of features, the number of labels, and a lambda value for regularization.  This function `tf_create` builds a graph, and returns two functions itself: one to train the algorithm by running the optimizer, and another to predict labels for new values.  To compute the loss for regularization, I use the built-in `tf.nn.l2_loss` function, which is equivalent to the regularization loss I computed manually before."
   ]
  },
  {
   "cell_type": "code",
   "execution_count": 27,
   "metadata": {},
   "outputs": [],
   "source": [
    "import tensorflow as tf\n",
    "\n",
    "def tf_create(n_features, n_labels, lambda_):\n",
    "    \n",
    "    examples = tf.placeholder(tf.float64, [None, n_features])\n",
    "    labels = tf.placeholder(tf.float64, [None, n_labels])\n",
    "    weights = tf.Variable(tf.zeros([n_features, n_labels], dtype=tf.float64))\n",
    "    bias = tf.Variable(tf.zeros([n_labels], dtype=tf.float64))\n",
    "    \n",
    "    hyp = tf.sigmoid(tf.matmul(examples, weights) + bias)\n",
    "    loss = tf.reduce_mean(-labels * tf.log(hyp) - (1 - labels) * tf.log(1 - hyp))\n",
    "    reg = lambda_ * tf.nn.l2_loss(weights)\n",
    "    cost = loss + reg\n",
    "    \n",
    "    train = tf.train.AdamOptimizer().minimize(cost)\n",
    "    predict = tf.argmax(hyp, axis=1)\n",
    "    \n",
    "    def train_(sess, X, y, iterations):\n",
    "        for i in range(iterations):\n",
    "            sess.run(train, feed_dict={examples: X, labels: y})\n",
    "            \n",
    "    def predict_(sess, X):\n",
    "        return sess.run(predict, feed_dict={examples: X})\n",
    "    \n",
    "    return train_, predict_"
   ]
  },
  {
   "cell_type": "markdown",
   "metadata": {},
   "source": [
    "First, I evaluate the model against the 2-feature, 3-label example from above."
   ]
  },
  {
   "cell_type": "code",
   "execution_count": 28,
   "metadata": {},
   "outputs": [
    {
     "ename": "AttributeError",
     "evalue": "module 'tensorflow' has no attribute 'Session'",
     "output_type": "error",
     "traceback": [
      "\u001b[0;31m---------------------------------------------------------------------------\u001b[0m",
      "\u001b[0;31mAttributeError\u001b[0m                            Traceback (most recent call last)",
      "\u001b[0;32m<ipython-input-28-b1f5c568c33b>\u001b[0m in \u001b[0;36m<module>\u001b[0;34m()\u001b[0m\n\u001b[1;32m      3\u001b[0m \u001b[0mX_train\u001b[0m\u001b[0;34m,\u001b[0m \u001b[0mX_test\u001b[0m\u001b[0;34m,\u001b[0m \u001b[0my_train\u001b[0m\u001b[0;34m,\u001b[0m \u001b[0my_test\u001b[0m \u001b[0;34m=\u001b[0m \u001b[0mtrain_test_split\u001b[0m\u001b[0;34m(\u001b[0m\u001b[0mX\u001b[0m\u001b[0;34m,\u001b[0m \u001b[0my\u001b[0m\u001b[0;34m,\u001b[0m \u001b[0mtest_size\u001b[0m\u001b[0;34m=\u001b[0m\u001b[0;36m0.25\u001b[0m\u001b[0;34m)\u001b[0m\u001b[0;34m\u001b[0m\u001b[0m\n\u001b[1;32m      4\u001b[0m \u001b[0;34m\u001b[0m\u001b[0m\n\u001b[0;32m----> 5\u001b[0;31m \u001b[0;32mwith\u001b[0m \u001b[0mtf\u001b[0m\u001b[0;34m.\u001b[0m\u001b[0mSession\u001b[0m\u001b[0;34m(\u001b[0m\u001b[0;34m)\u001b[0m \u001b[0;32mas\u001b[0m \u001b[0msess\u001b[0m\u001b[0;34m:\u001b[0m\u001b[0;34m\u001b[0m\u001b[0m\n\u001b[0m\u001b[1;32m      6\u001b[0m \u001b[0;34m\u001b[0m\u001b[0m\n\u001b[1;32m      7\u001b[0m     \u001b[0mtrain\u001b[0m\u001b[0;34m,\u001b[0m \u001b[0mpredict\u001b[0m \u001b[0;34m=\u001b[0m \u001b[0mtf_create\u001b[0m\u001b[0;34m(\u001b[0m\u001b[0mX\u001b[0m\u001b[0;34m.\u001b[0m\u001b[0mshape\u001b[0m\u001b[0;34m[\u001b[0m\u001b[0;36m1\u001b[0m\u001b[0;34m]\u001b[0m\u001b[0;34m,\u001b[0m \u001b[0my\u001b[0m\u001b[0;34m.\u001b[0m\u001b[0mshape\u001b[0m\u001b[0;34m[\u001b[0m\u001b[0;36m1\u001b[0m\u001b[0;34m]\u001b[0m\u001b[0;34m,\u001b[0m \u001b[0;36m0.0\u001b[0m\u001b[0;34m)\u001b[0m\u001b[0;34m\u001b[0m\u001b[0m\n",
      "\u001b[0;31mAttributeError\u001b[0m: module 'tensorflow' has no attribute 'Session'"
     ]
    }
   ],
   "source": [
    "X = data.as_matrix(columns=['alcohol', 'flavanoids'])\n",
    "y = label_binarize(data['class'], [1, 2, 3])\n",
    "X_train, X_test, y_train, y_test = train_test_split(X, y, test_size=0.25)\n",
    "\n",
    "with tf.Session() as sess:\n",
    "    \n",
    "    train, predict = tf_create(X.shape[1], y.shape[1], 0.0)\n",
    "    sess.run(tf.global_variables_initializer())\n",
    "    train(sess, X_train, y_train, 30000)\n",
    "\n",
    "    predictions = predict(sess, X_test)\n",
    "    y_test = y_test.argmax(axis=1)\n",
    "\n",
    "    print('accuracy:', accuracy_score(y_test, predictions))\n",
    "    print('precision:', precision_score(y_test, predictions, average='macro'))\n",
    "    print('recall:', recall_score(y_test, predictions, average='macro'))\n",
    "\n",
    "    plot_boundary(X_train, lambda x: predict(sess, x))\n",
    "    plot_points(X_train, y_train.argmax(axis=1))"
   ]
  },
  {
   "cell_type": "markdown",
   "metadata": {},
   "source": [
    "Next, I use the `transform` function to apply additional polynomial features to the dataset, allowing for a non-linear decision boundary."
   ]
  },
  {
   "cell_type": "code",
   "execution_count": null,
   "metadata": {},
   "outputs": [],
   "source": [
    "X = data.as_matrix(columns=['alcohol', 'flavanoids'])\n",
    "X = transform(X)\n",
    "y = label_binarize(data['class'], [1, 2, 3])\n",
    "X_train, X_test, y_train, y_test = train_test_split(X, y, test_size=0.25)\n",
    "\n",
    "with tf.Session() as sess:\n",
    "    \n",
    "    train, predict = tf_create(X.shape[1], y.shape[1], 0.0)\n",
    "    sess.run(tf.global_variables_initializer())\n",
    "    train(sess, X_train, y_train, 30000)\n",
    "\n",
    "    predictions = predict(sess, X_test)\n",
    "    y_test = y_test.argmax(axis=1)\n",
    "\n",
    "    print('accuracy:', accuracy_score(y_test, predictions))\n",
    "    print('precision:', precision_score(y_test, predictions, average='macro'))\n",
    "    print('recall:', recall_score(y_test, predictions, average='macro'))\n",
    "\n",
    "    plot_boundary(X_train, lambda x: predict(sess, transform(x)))\n",
    "    plot_points(X_train, y_train.argmax(axis=1))"
   ]
  },
  {
   "cell_type": "markdown",
   "metadata": {},
   "source": [
    "Finally, I include all the features from the data set, all the labels, and apply a small amount of regularization."
   ]
  },
  {
   "cell_type": "code",
   "execution_count": null,
   "metadata": {},
   "outputs": [],
   "source": [
    "X = data.drop('class', 1).as_matrix()\n",
    "y = label_binarize(data['class'], [1, 2, 3])\n",
    "X_train, X_test, y_train, y_test = train_test_split(X, y, test_size=0.25)\n",
    "\n",
    "with tf.Session() as sess:\n",
    "    \n",
    "    train, predict = tf_create(X.shape[1], y.shape[1], 0.1)\n",
    "    sess.run(tf.global_variables_initializer())\n",
    "    train(sess, X_train, y_train, 30000)\n",
    "\n",
    "    predictions = predict(sess, X_test)\n",
    "    y_test = y_test.argmax(axis=1)\n",
    "\n",
    "    print('accuracy:', accuracy_score(y_test, predictions))\n",
    "    print('precision:', precision_score(y_test, predictions, average='macro'))\n",
    "    print('recall:', recall_score(y_test, predictions, average='macro'))"
   ]
  }
 ],
 "metadata": {
  "anaconda-cloud": {},
  "kernelspec": {
   "display_name": "Python 3",
   "language": "python",
   "name": "python3"
  },
  "language_info": {
   "codemirror_mode": {
    "name": "ipython",
    "version": 3
   },
   "file_extension": ".py",
   "mimetype": "text/x-python",
   "name": "python",
   "nbconvert_exporter": "python",
   "pygments_lexer": "ipython3",
   "version": "3.8.3"
  }
 },
 "nbformat": 4,
 "nbformat_minor": 2
}
